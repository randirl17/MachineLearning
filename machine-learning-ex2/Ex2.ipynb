{
 "cells": [
  {
   "cell_type": "code",
   "execution_count": 2,
   "metadata": {
    "collapsed": true
   },
   "outputs": [],
   "source": [
    "import numpy as np\n",
    "import pandas as pd\n",
    "import matplotlib.pyplot as plt\n",
    "%matplotlib inline"
   ]
  },
  {
   "cell_type": "code",
   "execution_count": 3,
   "metadata": {
    "collapsed": false
   },
   "outputs": [],
   "source": [
    "scores = pd.read_csv('./ex2/ex2data1.txt',header=None,names=['A','B','Pass'])"
   ]
  },
  {
   "cell_type": "code",
   "execution_count": 4,
   "metadata": {
    "collapsed": false
   },
   "outputs": [
    {
     "data": {
      "text/html": [
       "<div>\n",
       "<table border=\"1\" class=\"dataframe\">\n",
       "  <thead>\n",
       "    <tr style=\"text-align: right;\">\n",
       "      <th></th>\n",
       "      <th>A</th>\n",
       "      <th>B</th>\n",
       "      <th>Pass</th>\n",
       "    </tr>\n",
       "  </thead>\n",
       "  <tbody>\n",
       "    <tr>\n",
       "      <th>0</th>\n",
       "      <td>34.623660</td>\n",
       "      <td>78.024693</td>\n",
       "      <td>0</td>\n",
       "    </tr>\n",
       "    <tr>\n",
       "      <th>1</th>\n",
       "      <td>30.286711</td>\n",
       "      <td>43.894998</td>\n",
       "      <td>0</td>\n",
       "    </tr>\n",
       "    <tr>\n",
       "      <th>2</th>\n",
       "      <td>35.847409</td>\n",
       "      <td>72.902198</td>\n",
       "      <td>0</td>\n",
       "    </tr>\n",
       "    <tr>\n",
       "      <th>3</th>\n",
       "      <td>60.182599</td>\n",
       "      <td>86.308552</td>\n",
       "      <td>1</td>\n",
       "    </tr>\n",
       "    <tr>\n",
       "      <th>4</th>\n",
       "      <td>79.032736</td>\n",
       "      <td>75.344376</td>\n",
       "      <td>1</td>\n",
       "    </tr>\n",
       "  </tbody>\n",
       "</table>\n",
       "</div>"
      ],
      "text/plain": [
       "           A          B  Pass\n",
       "0  34.623660  78.024693     0\n",
       "1  30.286711  43.894998     0\n",
       "2  35.847409  72.902198     0\n",
       "3  60.182599  86.308552     1\n",
       "4  79.032736  75.344376     1"
      ]
     },
     "execution_count": 4,
     "metadata": {},
     "output_type": "execute_result"
    }
   ],
   "source": [
    "scores[:5]"
   ]
  },
  {
   "cell_type": "markdown",
   "metadata": {},
   "source": [
    "# Section 1.1"
   ]
  },
  {
   "cell_type": "code",
   "execution_count": 5,
   "metadata": {
    "collapsed": true
   },
   "outputs": [],
   "source": [
    "gotin = scores[scores.Pass == 1]\n",
    "notin = scores[scores.Pass == 0]"
   ]
  },
  {
   "cell_type": "code",
   "execution_count": 6,
   "metadata": {
    "collapsed": false
   },
   "outputs": [
    {
     "data": {
      "text/plain": [
       "<matplotlib.legend.Legend at 0x108e5cf60>"
      ]
     },
     "execution_count": 6,
     "metadata": {},
     "output_type": "execute_result"
    },
    {
     "data": {
      "image/png": "[encoded data removed]",
      "text/plain": [
       "<matplotlib.figure.Figure at 0x108df30f0>"
      ]
     },
     "metadata": {},
     "output_type": "display_data"
    }
   ],
   "source": [
    "fig = plt.figure(figsize=(8,6))\n",
    "ax = fig.add_subplot(111)\n",
    "ax.scatter(gotin.A,gotin.B,marker='+',c='k',s=35,label='Admitted')\n",
    "ax.scatter(notin.A,notin.B,marker='o',c='y',s=35,label='Not Admitted')\n",
    "ax.set_xlabel('Exam 1 Score')\n",
    "ax.set_ylabel('Exam 2 Score')\n",
    "ax.set_xlim(30,100)\n",
    "ax.set_ylim(30,100)\n",
    "ax.legend()"
   ]
  },
  {
   "cell_type": "markdown",
   "metadata": {},
   "source": [
    "# Section 1.2"
   ]
  },
  {
   "cell_type": "code",
   "execution_count": 7,
   "metadata": {
    "collapsed": true
   },
   "outputs": [],
   "source": [
    "import math"
   ]
  },
  {
   "cell_type": "code",
   "execution_count": 8,
   "metadata": {
    "collapsed": true
   },
   "outputs": [],
   "source": [
    "def sigmoid(x):\n",
    "    g = 1/(1+math.e**(-x))\n",
    "    return g"
   ]
  },
  {
   "cell_type": "code",
   "execution_count": 9,
   "metadata": {
    "collapsed": false
   },
   "outputs": [
    {
     "name": "stdout",
     "output_type": "stream",
     "text": [
      "1.0\n",
      "3.7200759760208555e-44\n",
      "0.5\n"
     ]
    }
   ],
   "source": [
    "print(sigmoid(1e6))\n",
    "print(sigmoid(-100))\n",
    "print(sigmoid(0))"
   ]
  },
  {
   "cell_type": "code",
   "execution_count": 10,
   "metadata": {
    "collapsed": false
   },
   "outputs": [
    {
     "data": {
      "text/plain": [
       "array([ 0.5       ,  0.73105858,  0.88079708,  0.95257413,  0.98201379,\n",
       "        0.99330715,  0.99752738,  0.99908895,  0.99966465,  0.99987661])"
      ]
     },
     "execution_count": 10,
     "metadata": {},
     "output_type": "execute_result"
    }
   ],
   "source": [
    "xes = np.array(range(10))\n",
    "sigmoid(xes)"
   ]
  },
  {
   "cell_type": "code",
   "execution_count": 11,
   "metadata": {
    "collapsed": false
   },
   "outputs": [
    {
     "name": "stdout",
     "output_type": "stream",
     "text": [
      "-10.3704903354\n"
     ]
    }
   ],
   "source": [
    "h_xes = sigmoid(xes)\n",
    "y = xes\n",
    "J = 1/len(h_xes)*np.sum(-1.*y*np.log10(h_xes)-(1.-y)*np.log10(1-h_xes))\n",
    "print(J)"
   ]
  },
  {
   "cell_type": "code",
   "execution_count": 12,
   "metadata": {
    "collapsed": false
   },
   "outputs": [
    {
     "name": "stdout",
     "output_type": "stream",
     "text": [
      "-24.0780040429\n"
     ]
    }
   ],
   "source": [
    "gradJ = 1/len(h_xes)*np.sum((h_xes-y)*xes)\n",
    "print(gradJ)"
   ]
  },
  {
   "cell_type": "code",
   "execution_count": 193,
   "metadata": {
    "collapsed": false
   },
   "outputs": [
    {
     "name": "stdout",
     "output_type": "stream",
     "text": [
      "[ 0.  0.  0.]\n"
     ]
    }
   ],
   "source": [
    "X = scores.ix[:,:2]\n",
    "#xones = np.insert(np.array(X), 0 , 1, axis=1)\n",
    "X.insert(0, 'ones', 1)\n",
    "y = scores.Pass\n",
    "theta = np.zeros(len(X.ix[0,:]))\n",
    "print(theta)"
   ]
  },
  {
   "cell_type": "code",
   "execution_count": 114,
   "metadata": {
    "collapsed": true
   },
   "outputs": [],
   "source": [
    "import scipy.optimize as op"
   ]
  },
  {
   "cell_type": "code",
   "execution_count": 223,
   "metadata": {
    "collapsed": false
   },
   "outputs": [
    {
     "name": "stdout",
     "output_type": "stream",
     "text": [
      "Initial Theta = \n",
      " [[ 0.]\n",
      " [ 0.]\n",
      " [ 0.]] \n",
      "\n",
      "J =\n",
      "0.69314718056\n",
      "0.69314718056 \n",
      "\n",
      "Gradient =\n"
     ]
    },
    {
     "ename": "TypeError",
     "evalue": "unhashable type: 'slice'",
     "output_type": "error",
     "traceback": [
      "\u001b[0;31m---------------------------------------------------------------------------\u001b[0m",
      "\u001b[0;31mTypeError\u001b[0m                                 Traceback (most recent call last)",
      "\u001b[0;32m<ipython-input-223-2817582ca428>\u001b[0m in \u001b[0;36m<module>\u001b[0;34m()\u001b[0m\n\u001b[1;32m     30\u001b[0m \u001b[0;34m\u001b[0m\u001b[0m\n\u001b[1;32m     31\u001b[0m \u001b[0mprint\u001b[0m\u001b[0;34m(\u001b[0m\u001b[0;34m\"Gradient =\"\u001b[0m\u001b[0;34m)\u001b[0m\u001b[0;34m\u001b[0m\u001b[0m\n\u001b[0;32m---> 32\u001b[0;31m \u001b[0mgrad\u001b[0m \u001b[0;34m=\u001b[0m \u001b[0mgradJ\u001b[0m\u001b[0;34m(\u001b[0m\u001b[0mth0\u001b[0m\u001b[0;34m,\u001b[0m\u001b[0mXdata\u001b[0m\u001b[0;34m,\u001b[0m\u001b[0mydata\u001b[0m\u001b[0;34m)\u001b[0m\u001b[0;34m\u001b[0m\u001b[0m\n\u001b[0m\u001b[1;32m     33\u001b[0m \u001b[0mprint\u001b[0m\u001b[0;34m(\u001b[0m\u001b[0mcost\u001b[0m\u001b[0;34m,\u001b[0m\u001b[0;34m'\\n'\u001b[0m\u001b[0;34m)\u001b[0m\u001b[0;34m\u001b[0m\u001b[0m\n",
      "\u001b[0;32m<ipython-input-223-2817582ca428>\u001b[0m in \u001b[0;36mgradJ\u001b[0;34m(theta, X, y)\u001b[0m\n\u001b[1;32m     22\u001b[0m \u001b[0;31m#    print(hsuby[:, np.newaxis]*X)\u001b[0m\u001b[0;34m\u001b[0m\u001b[0;34m\u001b[0m\u001b[0m\n\u001b[1;32m     23\u001b[0m \u001b[0;31m#    gradJ = 1/len(y)*np.sum(np.array(h_xes.subtract(y,axis=0))*X)\u001b[0m\u001b[0;34m\u001b[0m\u001b[0;34m\u001b[0m\u001b[0m\n\u001b[0;32m---> 24\u001b[0;31m     \u001b[0mgradJ\u001b[0m \u001b[0;34m=\u001b[0m \u001b[0;36m1\u001b[0m\u001b[0;34m/\u001b[0m\u001b[0mlen\u001b[0m\u001b[0;34m(\u001b[0m\u001b[0my\u001b[0m\u001b[0;34m)\u001b[0m\u001b[0;34m*\u001b[0m\u001b[0mnp\u001b[0m\u001b[0;34m.\u001b[0m\u001b[0msum\u001b[0m\u001b[0;34m(\u001b[0m\u001b[0mhsuby\u001b[0m\u001b[0;34m[\u001b[0m\u001b[0;34m:\u001b[0m\u001b[0;34m,\u001b[0m \u001b[0mnp\u001b[0m\u001b[0;34m.\u001b[0m\u001b[0mnewaxis\u001b[0m\u001b[0;34m]\u001b[0m\u001b[0;34m*\u001b[0m\u001b[0mX\u001b[0m\u001b[0;34m)\u001b[0m\u001b[0;34m\u001b[0m\u001b[0m\n\u001b[0m\u001b[1;32m     25\u001b[0m     \u001b[0;32mreturn\u001b[0m \u001b[0mgradJ\u001b[0m\u001b[0;34m\u001b[0m\u001b[0m\n\u001b[1;32m     26\u001b[0m \u001b[0;34m\u001b[0m\u001b[0m\n",
      "\u001b[0;32m/Users/migration/anaconda3/lib/python3.5/site-packages/pandas/core/frame.py\u001b[0m in \u001b[0;36m__getitem__\u001b[0;34m(self, key)\u001b[0m\n\u001b[1;32m   1967\u001b[0m             \u001b[0;32mreturn\u001b[0m \u001b[0mself\u001b[0m\u001b[0;34m.\u001b[0m\u001b[0m_getitem_multilevel\u001b[0m\u001b[0;34m(\u001b[0m\u001b[0mkey\u001b[0m\u001b[0;34m)\u001b[0m\u001b[0;34m\u001b[0m\u001b[0m\n\u001b[1;32m   1968\u001b[0m         \u001b[0;32melse\u001b[0m\u001b[0;34m:\u001b[0m\u001b[0;34m\u001b[0m\u001b[0m\n\u001b[0;32m-> 1969\u001b[0;31m             \u001b[0;32mreturn\u001b[0m \u001b[0mself\u001b[0m\u001b[0;34m.\u001b[0m\u001b[0m_getitem_column\u001b[0m\u001b[0;34m(\u001b[0m\u001b[0mkey\u001b[0m\u001b[0;34m)\u001b[0m\u001b[0;34m\u001b[0m\u001b[0m\n\u001b[0m\u001b[1;32m   1970\u001b[0m \u001b[0;34m\u001b[0m\u001b[0m\n\u001b[1;32m   1971\u001b[0m     \u001b[0;32mdef\u001b[0m \u001b[0m_getitem_column\u001b[0m\u001b[0;34m(\u001b[0m\u001b[0mself\u001b[0m\u001b[0;34m,\u001b[0m \u001b[0mkey\u001b[0m\u001b[0;34m)\u001b[0m\u001b[0;34m:\u001b[0m\u001b[0;34m\u001b[0m\u001b[0m\n",
      "\u001b[0;32m/Users/migration/anaconda3/lib/python3.5/site-packages/pandas/core/frame.py\u001b[0m in \u001b[0;36m_getitem_column\u001b[0;34m(self, key)\u001b[0m\n\u001b[1;32m   1974\u001b[0m         \u001b[0;31m# get column\u001b[0m\u001b[0;34m\u001b[0m\u001b[0;34m\u001b[0m\u001b[0m\n\u001b[1;32m   1975\u001b[0m         \u001b[0;32mif\u001b[0m \u001b[0mself\u001b[0m\u001b[0;34m.\u001b[0m\u001b[0mcolumns\u001b[0m\u001b[0;34m.\u001b[0m\u001b[0mis_unique\u001b[0m\u001b[0;34m:\u001b[0m\u001b[0;34m\u001b[0m\u001b[0m\n\u001b[0;32m-> 1976\u001b[0;31m             \u001b[0;32mreturn\u001b[0m \u001b[0mself\u001b[0m\u001b[0;34m.\u001b[0m\u001b[0m_get_item_cache\u001b[0m\u001b[0;34m(\u001b[0m\u001b[0mkey\u001b[0m\u001b[0;34m)\u001b[0m\u001b[0;34m\u001b[0m\u001b[0m\n\u001b[0m\u001b[1;32m   1977\u001b[0m \u001b[0;34m\u001b[0m\u001b[0m\n\u001b[1;32m   1978\u001b[0m         \u001b[0;31m# duplicate columns & possible reduce dimensionality\u001b[0m\u001b[0;34m\u001b[0m\u001b[0;34m\u001b[0m\u001b[0m\n",
      "\u001b[0;32m/Users/migration/anaconda3/lib/python3.5/site-packages/pandas/core/generic.py\u001b[0m in \u001b[0;36m_get_item_cache\u001b[0;34m(self, item)\u001b[0m\n\u001b[1;32m   1087\u001b[0m         \u001b[0;34m\"\"\" return the cached item, item represents a label indexer \"\"\"\u001b[0m\u001b[0;34m\u001b[0m\u001b[0m\n\u001b[1;32m   1088\u001b[0m         \u001b[0mcache\u001b[0m \u001b[0;34m=\u001b[0m \u001b[0mself\u001b[0m\u001b[0;34m.\u001b[0m\u001b[0m_item_cache\u001b[0m\u001b[0;34m\u001b[0m\u001b[0m\n\u001b[0;32m-> 1089\u001b[0;31m         \u001b[0mres\u001b[0m \u001b[0;34m=\u001b[0m \u001b[0mcache\u001b[0m\u001b[0;34m.\u001b[0m\u001b[0mget\u001b[0m\u001b[0;34m(\u001b[0m\u001b[0mitem\u001b[0m\u001b[0;34m)\u001b[0m\u001b[0;34m\u001b[0m\u001b[0m\n\u001b[0m\u001b[1;32m   1090\u001b[0m         \u001b[0;32mif\u001b[0m \u001b[0mres\u001b[0m \u001b[0;32mis\u001b[0m \u001b[0;32mNone\u001b[0m\u001b[0;34m:\u001b[0m\u001b[0;34m\u001b[0m\u001b[0m\n\u001b[1;32m   1091\u001b[0m             \u001b[0mvalues\u001b[0m \u001b[0;34m=\u001b[0m \u001b[0mself\u001b[0m\u001b[0;34m.\u001b[0m\u001b[0m_data\u001b[0m\u001b[0;34m.\u001b[0m\u001b[0mget\u001b[0m\u001b[0;34m(\u001b[0m\u001b[0mitem\u001b[0m\u001b[0;34m)\u001b[0m\u001b[0;34m\u001b[0m\u001b[0m\n",
      "\u001b[0;31mTypeError\u001b[0m: unhashable type: 'slice'"
     ]
    }
   ],
   "source": [
    "#test parameters theta = (0,0), should be about 0.693\n",
    "Xdata = scores.ix[:,:2]\n",
    "Xdata.insert(0, 'ones', 1)\n",
    "ydata = scores.Pass\n",
    "th0 = np.zeros((len(Xdata.ix[0,:]),1))\n",
    "print('Initial Theta = \\n',th0,'\\n')\n",
    "\n",
    "def CostFunc(theta,X,y):\n",
    "    h_xes = sigmoid(X.dot(theta))\n",
    "    yarr = np.array(y)\n",
    "#    print(h_xes[:5])\n",
    "    J = np.sum(-yarr.dot(np.log(sigmoid(X.dot(theta))))\n",
    "               -(1-yarr).dot(np.log(1-sigmoid(X.dot(theta)))))/len(y)\n",
    "    print(J)\n",
    "    return J\n",
    "    \n",
    "def gradJ(theta,X,y):\n",
    "    h_xes = sigmoid(X.dot(theta))\n",
    "#    print(h_xes[:5])\n",
    "    hsuby = h_xes.subtract(y,axis=0)\n",
    "#    print(hsuby[:5])\n",
    "#    print(hsuby[:, np.newaxis]*X)\n",
    "#    gradJ = 1/len(y)*np.sum(np.array(h_xes.subtract(y,axis=0))*X)\n",
    "    gradJ = 1/len(y)*np.sum(hsuby[:, np.newaxis]*X)\n",
    "    return gradJ\n",
    "\n",
    "print(\"J =\")\n",
    "cost = CostFunc(th0,Xdata,ydata)\n",
    "print(cost,'\\n')\n",
    "\n",
    "print(\"Gradient =\")\n",
    "grad = gradJ(th0,Xdata,ydata)\n",
    "print(cost,'\\n')"
   ]
  },
  {
   "cell_type": "code",
   "execution_count": 235,
   "metadata": {
    "collapsed": false
   },
   "outputs": [
    {
     "name": "stdout",
     "output_type": "stream",
     "text": [
      "0.69314718056\n",
      "0.693143141178\n",
      "0.631812360263\n",
      "0.631812360196\n",
      "0.58924253159\n",
      "0.589242529867\n",
      "0.422782468563\n",
      "0.422782458148\n",
      "0.407292687403\n",
      "0.407292685636\n",
      "0.381885519755\n",
      "0.381885132148\n",
      "0.378623498359\n",
      "0.378623493561\n",
      "0.265712080987\n",
      "0.238926772015\n",
      "0.238926172145\n",
      "0.204720382659\n",
      "0.204720364974\n",
      "0.204671386111\n",
      "0.204671385466\n",
      "0.20353031806\n",
      "0.203530306409\n",
      "0.203529353957\n",
      "0.203529353957\n",
      "0.203525113824\n",
      "0.203525113824\n",
      "0.203498411172\n",
      "0.20349841117\n",
      "0.203497838551\n",
      "0.203497838551\n",
      "0.203497790921\n",
      "0.203497790872\n",
      "0.203497739018\n",
      "0.203497739018\n",
      "0.203497701589\n",
      "0.203497701589\n",
      "[-25.16131839   0.20623159   0.20147148]\n"
     ]
    }
   ],
   "source": [
    "res = op.minimize(fun = CostFunc,\n",
    "            x0 = th0,\n",
    "            args = (Xdata,ydata),\n",
    "            method = 'TNC',\n",
    "            jac=gradJ)\n",
    "print(res.x)"
   ]
  },
  {
   "cell_type": "markdown",
   "metadata": {},
   "source": [
    "### Find a way to plot decision boundary using these values for $\\theta$.\n",
    "\n",
    "Check scikit-learn:\n",
    "http://stackoverflow.com/questions/22294241/plotting-a-decision-boundary-separating-2-classes-using-matplotlibs-pyplot"
   ]
  },
  {
   "cell_type": "code",
   "execution_count": 238,
   "metadata": {
    "collapsed": false
   },
   "outputs": [
    {
     "data": {
      "text/plain": [
       "0.20623158700299848"
      ]
     },
     "execution_count": 238,
     "metadata": {},
     "output_type": "execute_result"
    }
   ],
   "source": [
    "res.x[1]"
   ]
  },
  {
   "cell_type": "code",
   "execution_count": 243,
   "metadata": {
    "collapsed": false
   },
   "outputs": [
    {
     "data": {
      "text/plain": [
       "array([ 96.66068069,  95.93690425,  95.21312781,  94.48935137,\n",
       "        93.76557492,  93.04179848,  92.31802204,  91.59424559,\n",
       "        90.87046915,  90.14669271,  89.42291626,  88.69913982,\n",
       "        87.97536338,  87.25158694,  86.52781049,  85.80403405,\n",
       "        85.08025761,  84.35648116,  83.63270472,  82.90892828,\n",
       "        82.18515183,  81.46137539,  80.73759895,  80.01382251,\n",
       "        79.29004606,  78.56626962,  77.84249318,  77.11871673,\n",
       "        76.39494029,  75.67116385,  74.9473874 ,  74.22361096,\n",
       "        73.49983452,  72.77605808,  72.05228163,  71.32850519,\n",
       "        70.60472875,  69.8809523 ,  69.15717586,  68.43339942,\n",
       "        67.70962297,  66.98584653,  66.26207009,  65.53829365,\n",
       "        64.8145172 ,  64.09074076,  63.36696432,  62.64318787,\n",
       "        61.91941143,  61.19563499,  60.47185854,  59.7480821 ,\n",
       "        59.02430566,  58.30052922,  57.57675277,  56.85297633,\n",
       "        56.12919989,  55.40542344,  54.681647  ,  53.95787056,\n",
       "        53.23409411,  52.51031767,  51.78654123,  51.06276479,\n",
       "        50.33898834,  49.6152119 ,  48.89143546,  48.16765901,\n",
       "        47.44388257,  46.72010613,  45.99632969,  45.27255324,\n",
       "        44.5487768 ,  43.82500036,  43.10122391,  42.37744747,\n",
       "        41.65367103,  40.92989458,  40.20611814,  39.4823417 ,\n",
       "        38.75856526,  38.03478881,  37.31101237,  36.58723593,\n",
       "        35.86345948,  35.13968304,  34.4159066 ,  33.69213015,\n",
       "        32.96835371,  32.24457727,  31.52080083,  30.79702438,\n",
       "        30.07324794,  29.3494715 ,  28.62569505,  27.90191861,\n",
       "        27.17814217,  26.45436572,  25.73058928,  25.00681284])"
      ]
     },
     "execution_count": 243,
     "metadata": {},
     "output_type": "execute_result"
    }
   ],
   "source": [
    "xx = np.linspace(30,100,100)\n",
    "fit = (0.5 - res.x[0] - res.x[1]*xx)/res.x[2]\n",
    "fit"
   ]
  },
  {
   "cell_type": "code",
   "execution_count": 246,
   "metadata": {
    "collapsed": false
   },
   "outputs": [
    {
     "data": {
      "text/plain": [
       "<matplotlib.legend.Legend at 0x11af4ba90>"
      ]
     },
     "execution_count": 246,
     "metadata": {},
     "output_type": "execute_result"
    },
    {
     "data": {
      "image/png": "[encoded data removed]",
      "text/plain": [
       "<matplotlib.figure.Figure at 0x11ae35668>"
      ]
     },
     "metadata": {},
     "output_type": "display_data"
    }
   ],
   "source": [
    "fig = plt.figure(figsize=(8,6))\n",
    "ax = fig.add_subplot(111)\n",
    "ax.scatter(gotin.A,gotin.B,marker='+',c='k',s=35,label='Admitted')\n",
    "ax.scatter(notin.A,notin.B,marker='o',c='y',s=35,label='Not Admitted')\n",
    "xx = np.linspace(30,100,100)\n",
    "fit = (0.5 - res.x[0] - res.x[1]*xx)/res.x[2]\n",
    "ax.plot(xx,fit,c='b')\n",
    "ax.set_xlabel('Exam 1 Score')\n",
    "ax.set_ylabel('Exam 2 Score')\n",
    "ax.set_xlim(30,100)\n",
    "ax.set_ylim(30,100)\n",
    "ax.legend()"
   ]
  },
  {
   "cell_type": "code",
   "execution_count": 233,
   "metadata": {
    "collapsed": false
   },
   "outputs": [
    {
     "data": {
      "text/plain": [
       "0.77629061995213022"
      ]
     },
     "execution_count": 233,
     "metadata": {},
     "output_type": "execute_result"
    }
   ],
   "source": [
    "#test values\n",
    "testx = np.array([1, 45, 85]) #should return P=0.776\n",
    "sigmoid(testx.dot(res.x.T))"
   ]
  },
  {
   "cell_type": "markdown",
   "metadata": {},
   "source": [
    "## See how well we predict the classes of the training set:"
   ]
  },
  {
   "cell_type": "code",
   "execution_count": 247,
   "metadata": {
    "collapsed": false
   },
   "outputs": [
    {
     "name": "stdout",
     "output_type": "stream",
     "text": [
      "Percent correct:  99.0 %\n"
     ]
    }
   ],
   "source": [
    "prob = sigmoid(Xdata.dot(res.x.T))\n",
    "scores['Predict'] = np.where(prob >= 0.5, 1, 0)\n",
    "diff = scores['Pass']-scores['Predict']\n",
    "perc = 1 + sum(diff)/len(diff)\n",
    "print(\"Percent correct: \",perc*100,'%')"
   ]
  },
  {
   "cell_type": "markdown",
   "metadata": {},
   "source": [
    "# Section 2"
   ]
  },
  {
   "cell_type": "code",
   "execution_count": 249,
   "metadata": {
    "collapsed": false
   },
   "outputs": [],
   "source": [
    "micro = pd.read_csv('./ex2/ex2data2.txt',header=None,names=['A','B','Pass'])"
   ]
  },
  {
   "cell_type": "code",
   "execution_count": 257,
   "metadata": {
    "collapsed": false
   },
   "outputs": [
    {
     "data": {
      "text/plain": [
       "<matplotlib.legend.Legend at 0x11b827e48>"
      ]
     },
     "execution_count": 257,
     "metadata": {},
     "output_type": "execute_result"
    },
    {
     "data": {
      "image/png": "[encoded data removed]",
      "text/plain": [
       "<matplotlib.figure.Figure at 0x11b923fd0>"
      ]
     },
     "metadata": {},
     "output_type": "display_data"
    }
   ],
   "source": [
    "fig = plt.figure(figsize=(8,6))\n",
    "ax = fig.add_subplot(111)\n",
    "ax.scatter(micro[micro.Pass == 1].A,micro[micro.Pass == 1].B,marker='+',c='k',s=35,label='y=1')\n",
    "ax.scatter(micro[micro.Pass == 0].A,micro[micro.Pass == 0].B,marker='o',c='y',s=35,label='y=0')\n",
    "ax.set_xlabel('Microchip Test 1 Score')\n",
    "ax.set_ylabel('Microchip Test 2 Score')\n",
    "ax.legend()"
   ]
  },
  {
   "cell_type": "code",
   "execution_count": null,
   "metadata": {
    "collapsed": true
   },
   "outputs": [],
   "source": []
  }
 ],
 "metadata": {
  "kernelspec": {
   "display_name": "Python 3",
   "language": "python",
   "name": "python3"
  },
  "language_info": {
   "codemirror_mode": {
    "name": "ipython",
    "version": 3
   },
   "file_extension": ".py",
   "mimetype": "text/x-python",
   "name": "python",
   "nbconvert_exporter": "python",
   "pygments_lexer": "ipython3",
   "version": "3.5.1"
  }
 },
 "nbformat": 4,
 "nbformat_minor": 0
}
