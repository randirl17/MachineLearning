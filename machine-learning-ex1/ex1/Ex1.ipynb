{
 "cells": [
  {
   "cell_type": "code",
   "execution_count": 65,
   "metadata": {
    "collapsed": false
   },
   "outputs": [],
   "source": [
    "import pandas as pd\n",
    "import numpy as np\n",
    "import matplotlib\n",
    "import matplotlib.pyplot as plt\n",
    "%matplotlib inline"
   ]
  },
  {
   "cell_type": "markdown",
   "metadata": {},
   "source": [
    "# Section 2"
   ]
  },
  {
   "cell_type": "code",
   "execution_count": 25,
   "metadata": {
    "collapsed": false
   },
   "outputs": [],
   "source": [
    "df = pd.read_csv('ex1data1.txt',header=None,names=['Pop','Profit'])"
   ]
  },
  {
   "cell_type": "code",
   "execution_count": 26,
   "metadata": {
    "collapsed": false
   },
   "outputs": [
    {
     "data": {
      "text/html": [
       "<div>\n",
       "<table border=\"1\" class=\"dataframe\">\n",
       "  <thead>\n",
       "    <tr style=\"text-align: right;\">\n",
       "      <th></th>\n",
       "      <th>Pop</th>\n",
       "      <th>Profit</th>\n",
       "    </tr>\n",
       "  </thead>\n",
       "  <tbody>\n",
       "    <tr>\n",
       "      <th>0</th>\n",
       "      <td>6.1101</td>\n",
       "      <td>17.5920</td>\n",
       "    </tr>\n",
       "    <tr>\n",
       "      <th>1</th>\n",
       "      <td>5.5277</td>\n",
       "      <td>9.1302</td>\n",
       "    </tr>\n",
       "    <tr>\n",
       "      <th>2</th>\n",
       "      <td>8.5186</td>\n",
       "      <td>13.6620</td>\n",
       "    </tr>\n",
       "    <tr>\n",
       "      <th>3</th>\n",
       "      <td>7.0032</td>\n",
       "      <td>11.8540</td>\n",
       "    </tr>\n",
       "    <tr>\n",
       "      <th>4</th>\n",
       "      <td>5.8598</td>\n",
       "      <td>6.8233</td>\n",
       "    </tr>\n",
       "  </tbody>\n",
       "</table>\n",
       "</div>"
      ],
      "text/plain": [
       "      Pop   Profit\n",
       "0  6.1101  17.5920\n",
       "1  5.5277   9.1302\n",
       "2  8.5186  13.6620\n",
       "3  7.0032  11.8540\n",
       "4  5.8598   6.8233"
      ]
     },
     "execution_count": 26,
     "metadata": {},
     "output_type": "execute_result"
    }
   ],
   "source": [
    "df[:5]"
   ]
  },
  {
   "cell_type": "code",
   "execution_count": 27,
   "metadata": {
    "collapsed": false
   },
   "outputs": [
    {
     "data": {
      "text/plain": [
       "97"
      ]
     },
     "execution_count": 27,
     "metadata": {},
     "output_type": "execute_result"
    }
   ],
   "source": [
    "len(df.Pop)"
   ]
  },
  {
   "cell_type": "code",
   "execution_count": 63,
   "metadata": {
    "collapsed": false
   },
   "outputs": [
    {
     "data": {
      "text/plain": [
       "(-5, 25)"
      ]
     },
     "execution_count": 63,
     "metadata": {},
     "output_type": "execute_result"
    },
    {
     "data": {
      "image/png": "[encoded data removed]",
      "text/plain": [
       "<matplotlib.figure.Figure at 0x108af8b38>"
      ]
     },
     "metadata": {},
     "output_type": "display_data"
    }
   ],
   "source": [
    "fig = plt.figure(figsize=(8,6))\n",
    "ax = fig.add_subplot(111)\n",
    "ax.scatter(df.Pop,df.Profit,marker='x',c='r',s=35)\n",
    "ax.set_xlabel('Population of City in 10,000s')\n",
    "ax.set_ylabel('Profit in $10,000s')\n",
    "plt.xlim([4,24])\n",
    "plt.ylim([-5,25])"
   ]
  },
  {
   "cell_type": "code",
   "execution_count": 74,
   "metadata": {
    "collapsed": false
   },
   "outputs": [],
   "source": [
    "theta = np.polyfit(df.Pop,df.Profit,2)\n",
    "h = np.poly1d(theta)\n",
    "xx = np.linspace(df.Pop.min(), df.Pop.max(), 100)"
   ]
  },
  {
   "cell_type": "code",
   "execution_count": 75,
   "metadata": {
    "collapsed": false
   },
   "outputs": [
    {
     "data": {
      "text/plain": [
       "(-5, 25)"
      ]
     },
     "execution_count": 75,
     "metadata": {},
     "output_type": "execute_result"
    },
    {
     "data": {
      "image/png": "[encoded data removed]",
      "text/plain": [
       "<matplotlib.figure.Figure at 0x109128860>"
      ]
     },
     "metadata": {},
     "output_type": "display_data"
    }
   ],
   "source": [
    "fig = plt.figure(figsize=(8,6))\n",
    "ax = fig.add_subplot(111)\n",
    "ax.scatter(df.Pop,df.Profit,marker='x',c='r',s=35)\n",
    "ax.plot(xx,h(xx),'b-')\n",
    "ax.set_xlabel('Population of City in 10,000s')\n",
    "ax.set_ylabel('Profit in $10,000s')\n",
    "plt.xlim([4,24])\n",
    "plt.ylim([-5,25])"
   ]
  },
  {
   "cell_type": "code",
   "execution_count": 79,
   "metadata": {
    "collapsed": false
   },
   "outputs": [
    {
     "name": "stdout",
     "output_type": "stream",
     "text": [
      "0.447116281495\n",
      "4.43949442281\n"
     ]
    }
   ],
   "source": [
    "print(h(3.5))\n",
    "print(h(7))"
   ]
  },
  {
   "cell_type": "markdown",
   "metadata": {},
   "source": [
    "# Section 3"
   ]
  },
  {
   "cell_type": "code",
   "execution_count": 80,
   "metadata": {
    "collapsed": true
   },
   "outputs": [],
   "source": [
    "houses=pd.read_csv('ex1data2.txt',header=None,names=['Size','Bedrooms','Price'])"
   ]
  },
  {
   "cell_type": "code",
   "execution_count": 121,
   "metadata": {
    "collapsed": false
   },
   "outputs": [],
   "source": [
    "for name in list(houses.columns.values):\n",
    "    houses[str(name)+'_n'] = (houses[name]-houses[name].mean())/houses[name].std()"
   ]
  },
  {
   "cell_type": "code",
   "execution_count": 230,
   "metadata": {
    "collapsed": false
   },
   "outputs": [
    {
     "data": {
      "text/html": [
       "<div>\n",
       "<table border=\"1\" class=\"dataframe\">\n",
       "  <thead>\n",
       "    <tr style=\"text-align: right;\">\n",
       "      <th></th>\n",
       "      <th>Size</th>\n",
       "      <th>Bedrooms</th>\n",
       "      <th>Price</th>\n",
       "      <th>Size_n</th>\n",
       "      <th>Bedrooms_n</th>\n",
       "      <th>Price_n</th>\n",
       "    </tr>\n",
       "  </thead>\n",
       "  <tbody>\n",
       "    <tr>\n",
       "      <th>0</th>\n",
       "      <td>2104</td>\n",
       "      <td>3</td>\n",
       "      <td>399900</td>\n",
       "      <td>0.130010</td>\n",
       "      <td>-0.223675</td>\n",
       "      <td>0.475747</td>\n",
       "    </tr>\n",
       "    <tr>\n",
       "      <th>1</th>\n",
       "      <td>1600</td>\n",
       "      <td>3</td>\n",
       "      <td>329900</td>\n",
       "      <td>-0.504190</td>\n",
       "      <td>-0.223675</td>\n",
       "      <td>-0.084074</td>\n",
       "    </tr>\n",
       "    <tr>\n",
       "      <th>2</th>\n",
       "      <td>2400</td>\n",
       "      <td>3</td>\n",
       "      <td>369000</td>\n",
       "      <td>0.502476</td>\n",
       "      <td>-0.223675</td>\n",
       "      <td>0.228626</td>\n",
       "    </tr>\n",
       "    <tr>\n",
       "      <th>3</th>\n",
       "      <td>1416</td>\n",
       "      <td>2</td>\n",
       "      <td>232000</td>\n",
       "      <td>-0.735723</td>\n",
       "      <td>-1.537767</td>\n",
       "      <td>-0.867025</td>\n",
       "    </tr>\n",
       "    <tr>\n",
       "      <th>4</th>\n",
       "      <td>3000</td>\n",
       "      <td>4</td>\n",
       "      <td>539900</td>\n",
       "      <td>1.257476</td>\n",
       "      <td>1.090417</td>\n",
       "      <td>1.595389</td>\n",
       "    </tr>\n",
       "  </tbody>\n",
       "</table>\n",
       "</div>"
      ],
      "text/plain": [
       "   Size  Bedrooms   Price    Size_n  Bedrooms_n   Price_n\n",
       "0  2104         3  399900  0.130010   -0.223675  0.475747\n",
       "1  1600         3  329900 -0.504190   -0.223675 -0.084074\n",
       "2  2400         3  369000  0.502476   -0.223675  0.228626\n",
       "3  1416         2  232000 -0.735723   -1.537767 -0.867025\n",
       "4  3000         4  539900  1.257476    1.090417  1.595389"
      ]
     },
     "execution_count": 230,
     "metadata": {},
     "output_type": "execute_result"
    }
   ],
   "source": [
    "houses[:5]"
   ]
  },
  {
   "cell_type": "code",
   "execution_count": 119,
   "metadata": {
    "collapsed": false
   },
   "outputs": [],
   "source": [
    "#del houses['Price_n']\n",
    "#del houses['Size_n']\n",
    "#del houses['Bedrooms_n']"
   ]
  },
  {
   "cell_type": "markdown",
   "metadata": {},
   "source": [
    "### Quick fit to size vs price & bedrooms vs price to get a sense of goodness of 3 parameter fit."
   ]
  },
  {
   "cell_type": "code",
   "execution_count": 123,
   "metadata": {
    "collapsed": true
   },
   "outputs": [],
   "source": [
    "from scipy.optimize import curve_fit"
   ]
  },
  {
   "cell_type": "code",
   "execution_count": 262,
   "metadata": {
    "collapsed": true
   },
   "outputs": [],
   "source": [
    "xones = np.insert(houses.values[:,3:], 0, 1., axis=1)\n",
    "n = len(xones[0])\n",
    "p0 = np.zeros(n-1)"
   ]
  },
  {
   "cell_type": "code",
   "execution_count": 288,
   "metadata": {
    "collapsed": false
   },
   "outputs": [
    {
     "data": {
      "text/plain": [
       "array([[ 1.        ,  0.13000987],\n",
       "       [ 1.        , -0.50418984],\n",
       "       [ 1.        ,  0.50247636],\n",
       "       [ 1.        , -0.73572306],\n",
       "       [ 1.        ,  1.25747602]])"
      ]
     },
     "execution_count": 288,
     "metadata": {},
     "output_type": "execute_result"
    }
   ],
   "source": [
    "xones[:5,:2]"
   ]
  },
  {
   "cell_type": "code",
   "execution_count": 354,
   "metadata": {
    "collapsed": false
   },
   "outputs": [
    {
     "name": "stdout",
     "output_type": "stream",
     "text": [
      " fit coefficients:\n",
      " [ -1.86083815e-10   8.54987591e-01]\n"
     ]
    }
   ],
   "source": [
    "def fitFunc(x, a, b):\n",
    "    return a*x[:,0] + b*x[:,1]\n",
    "#sum(p[n]*x[:,n])\n",
    "\n",
    "fitParams, fitCovariances = curve_fit(fitFunc, xones[:,:2], xones[:,3])\n",
    "print(' fit coefficients:\\n', fitParams)"
   ]
  },
  {
   "cell_type": "code",
   "execution_count": 361,
   "metadata": {
    "collapsed": false
   },
   "outputs": [
    {
     "data": {
      "text/plain": [
       "<matplotlib.text.Text at 0x10d88dda0>"
      ]
     },
     "execution_count": 361,
     "metadata": {},
     "output_type": "execute_result"
    },
    {
     "data": {
      "image/png": "[encoded data removed]",
      "text/plain": [
       "<matplotlib.figure.Figure at 0x10d809860>"
      ]
     },
     "metadata": {},
     "output_type": "display_data"
    }
   ],
   "source": [
    "fitx = np.linspace(xones[:,1].min(),xones[:,1].max(),100)\n",
    "fit = fitParams[0]*1 + fitParams[1]*fitx\n",
    "fig = plt.figure(figsize=(8,6))\n",
    "ax = fig.add_subplot(111)\n",
    "ax.scatter(xones[:,1],xones[:,3],marker='o',c='b',s=35)\n",
    "ax.plot(fitx,fit,'m-')\n",
    "ax.set_xlabel('Size of House, normalized')\n",
    "ax.set_ylabel('Price, normalized')\n",
    "ax.set_title('Normalized Values',fontsize='x-large')"
   ]
  },
  {
   "cell_type": "code",
   "execution_count": 356,
   "metadata": {
    "collapsed": false
   },
   "outputs": [
    {
     "name": "stdout",
     "output_type": "stream",
     "text": [
      "71270.4931293 134.525287368\n"
     ]
    }
   ],
   "source": [
    "x1 = -1\n",
    "x2 = 2\n",
    "y1 = fitParams[0]*1 + fitParams[1]*x1\n",
    "y2 = fitParams[0]*1 + fitParams[1]*x2\n",
    "n_x1 = x1*houses.Size.std()+houses.Size.mean()\n",
    "n_x2 = x2*houses.Size.std()+houses.Size.mean()\n",
    "n_y1 = y1*houses.Price.std()+houses.Price.mean()\n",
    "n_y2 = y2*houses.Price.std()+houses.Price.mean()\n",
    "\n",
    "m = (n_y1-n_y2)/(n_x1-n_x2)\n",
    "b = n_y1-m*n_x1\n",
    "print(b, m)"
   ]
  },
  {
   "cell_type": "code",
   "execution_count": 363,
   "metadata": {
    "collapsed": false
   },
   "outputs": [
    {
     "data": {
      "text/plain": [
       "<matplotlib.text.Text at 0x10dde82b0>"
      ]
     },
     "execution_count": 363,
     "metadata": {},
     "output_type": "execute_result"
    },
    {
     "data": {
      "image/png": "[encoded data removed]",
      "text/plain": [
       "<matplotlib.figure.Figure at 0x10d8e9240>"
      ]
     },
     "metadata": {},
     "output_type": "display_data"
    }
   ],
   "source": [
    "fitx = np.linspace(houses.Size.min(),houses.Size.max(),100)\n",
    "fit = (b + m*fitx)\n",
    "fig = plt.figure(figsize=(8,6))\n",
    "ax = fig.add_subplot(111)\n",
    "ax.scatter(houses.Size,houses.Price,marker='o',c='b',s=35)\n",
    "ax.plot(fitx,fit,'m-')\n",
    "ax.set_xlabel('Size of House, raw')\n",
    "ax.set_ylabel('Price, raw')\n",
    "ax.set_title('Raw Values, Converted Fit',fontsize='x-large')"
   ]
  },
  {
   "cell_type": "code",
   "execution_count": 369,
   "metadata": {
    "collapsed": false
   },
   "outputs": [
    {
     "name": "stdout",
     "output_type": "stream",
     "text": [
      "[[  1.00000000e+00   2.10400000e+03   3.00000000e+00   3.99900000e+05]\n",
      " [  1.00000000e+00   1.60000000e+03   3.00000000e+00   3.29900000e+05]\n",
      " [  1.00000000e+00   2.40000000e+03   3.00000000e+00   3.69000000e+05]]\n",
      " fit coefficients:\n",
      " [ 89597.91247566    139.21067669  -8738.02165615]\n"
     ]
    }
   ],
   "source": [
    "xrawones = np.insert(houses.values[:,:3], 0, 1., axis=1)\n",
    "print(xrawones[:3])\n",
    "n = len(xrawones[0])\n",
    "p0 = np.zeros(n-1)\n",
    "\n",
    "def fitFunc(x, *p):\n",
    "    return p[0]*x[:,0] + p[1]*x[:,1] + p[2]*x[:,2]\n",
    "\n",
    "bruteParams, bruteCovariances = curve_fit(fitFunc, (xrawones[:,:3]), xrawones[:,3], p0=p0)\n",
    "print(' fit coefficients:\\n', bruteParams)"
   ]
  },
  {
   "cell_type": "code",
   "execution_count": 372,
   "metadata": {
    "collapsed": false
   },
   "outputs": [
    {
     "name": "stdout",
     "output_type": "stream",
     "text": [
      " fit coefficients:\n",
      " [ 89597.91247566    139.21067669  -8738.02165615]\n"
     ]
    }
   ],
   "source": [
    "#Generic form for unlimited number of parameters\n",
    "def fitFunc(x, *p):\n",
    "    return np.sum(p*x,axis=1)\n",
    "\n",
    "genParams, genCovariances = curve_fit(fitFunc, (xrawones[:,:3]), xrawones[:,3], p0=(0,0,0))\n",
    "print(' fit coefficients:\\n', genParams)"
   ]
  },
  {
   "cell_type": "code",
   "execution_count": 373,
   "metadata": {
    "collapsed": false
   },
   "outputs": [
    {
     "name": "stdout",
     "output_type": "stream",
     "text": [
      "293081.464043\n"
     ]
    }
   ],
   "source": [
    "#test values, 1650 sqft, 3 bdrms\n",
    "print(genParams[0]*1+genParams[1]*1650.+genParams[2]*3)"
   ]
  },
  {
   "cell_type": "markdown",
   "metadata": {},
   "source": [
    "# Section 3.3"
   ]
  },
  {
   "cell_type": "code",
   "execution_count": 236,
   "metadata": {
    "collapsed": false
   },
   "outputs": [],
   "source": [
    "X = np.insert(houses.values[:,:2], 0, 1., axis=1)\n",
    "y = houses.values[:,2]"
   ]
  },
  {
   "cell_type": "code",
   "execution_count": 233,
   "metadata": {
    "collapsed": false
   },
   "outputs": [
    {
     "name": "stdout",
     "output_type": "stream",
     "text": [
      "[ 89597.9095428     139.21067402  -8738.01911233]\n"
     ]
    }
   ],
   "source": [
    "Theta = np.dot(np.dot(np.linalg.inv(np.dot(np.transpose(X),X)),np.transpose(X)),y)\n",
    "print(Theta)"
   ]
  },
  {
   "cell_type": "code",
   "execution_count": 235,
   "metadata": {
    "collapsed": false
   },
   "outputs": [
    {
     "name": "stdout",
     "output_type": "stream",
     "text": [
      "[ -43616.8896611   -43779.06936599   28489.46984811   37244.1857271\n",
      "  -67622.14485364   31079.02101847  -37966.97385115   63038.48402897\n",
      "   43494.58235014   28864.59918815   84715.54068768   -5194.79975894\n",
      "   -3506.97390087  -30606.78776792  -19997.01313984  -75069.61666598\n",
      "  -44020.03897859   35548.2452916   -82151.51839453 -122406.61395909\n",
      "   56469.11319496   79951.62386342   43777.77333008   67877.17551607\n",
      "   31013.37413438  -33384.4063748  -198146.98507649  -53969.98522566\n",
      " -105352.66495541  130582.39959029  -21769.69916345   50170.5644481\n",
      "   23735.60808944  -79812.2634009    20856.36373941   13529.59076914\n",
      "    5965.87731365    6442.99009906   92418.82407778   68619.31031959\n",
      "  -64731.56711653   45037.34065726   97999.63329673  -68563.33897304\n",
      "   10829.36558116   12564.00137413   -8645.70695098]\n"
     ]
    }
   ],
   "source": [
    "h_Theta = Theta[0]*X[:,0] + Theta[1]*X[:,1] + Theta[2]*X[:,2]\n",
    "print(h_Theta-houses.values[:,2])"
   ]
  },
  {
   "cell_type": "code",
   "execution_count": 237,
   "metadata": {
    "collapsed": false
   },
   "outputs": [
    {
     "name": "stdout",
     "output_type": "stream",
     "text": [
      "293081.464335\n"
     ]
    }
   ],
   "source": [
    "#test values, 1650 sqft, 3 bdrm\n",
    "print(Theta[0]*1. + Theta[1]*1650. + Theta[2]*3)"
   ]
  },
  {
   "cell_type": "code",
   "execution_count": null,
   "metadata": {
    "collapsed": true
   },
   "outputs": [],
   "source": []
  }
 ],
 "metadata": {
  "kernelspec": {
   "display_name": "Python 3",
   "language": "python",
   "name": "python3"
  },
  "language_info": {
   "codemirror_mode": {
    "name": "ipython",
    "version": 3
   },
   "file_extension": ".py",
   "mimetype": "text/x-python",
   "name": "python",
   "nbconvert_exporter": "python",
   "pygments_lexer": "ipython3",
   "version": "3.5.1"
  }
 },
 "nbformat": 4,
 "nbformat_minor": 0
}
